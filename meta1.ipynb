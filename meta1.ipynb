{
 "cells": [
  {
   "cell_type": "markdown",
   "metadata": {},
   "source": [
    "Breakout Room 1: Activity 1\n",
    "\n",
    "In groups of 3-4:\n",
    "Which of these groups do you think would be the most important to deliver this training to? Rank them in terms of importance\n",
    "Research support services\n",
    "Researchers\n",
    "Bibliometrics teams \n",
    "Individual decision makers who inform executive boards ie deans of research\n",
    "Working groups of decision makers ie. executive boards\n",
    "Public Engagement Teams\n"
   ]
  }
 ],
 "metadata": {
  "kernelspec": {
   "display_name": "base",
   "language": "python",
   "name": "python3"
  },
  "language_info": {
   "name": "python",
   "version": "3.12.4"
  }
 },
 "nbformat": 4,
 "nbformat_minor": 2
}
